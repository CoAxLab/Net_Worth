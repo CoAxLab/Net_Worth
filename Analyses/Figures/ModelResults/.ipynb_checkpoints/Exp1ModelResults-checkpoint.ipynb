{
 "cells": [
  {
   "cell_type": "markdown",
   "metadata": {},
   "source": [
    "# Experiment 1 Model Results"
   ]
  },
  {
   "cell_type": "markdown",
   "metadata": {},
   "source": [
    "## Imports & Set Up"
   ]
  },
  {
   "cell_type": "code",
   "execution_count": 1,
   "metadata": {
    "collapsed": true
   },
   "outputs": [],
   "source": [
    "# Import packages\n",
    "import pandas as pd\n",
    "import numpy as np\n",
    "import seaborn as sns\n",
    "import matplotlib.pyplot as plt\n",
    "import warnings\n",
    "\n",
    "# enough with the warnings!\n",
    "warnings.simplefilter('ignore', np.RankWarning)\n",
    "warnings.filterwarnings(\"ignore\", module=\"matplotlib\")\n",
    "warnings.filterwarnings(\"ignore\", module=\"statsmodels\")\n",
    "\n",
    "# PLOT STYLING\n",
    "# Display plots in the notebook\n",
    "%matplotlib inline \n",
    "\n",
    "#if you have jupyterthemes:\n",
    "from jupyterthemes import jtplot\n",
    "jtplot.style('grade3',context='paper', fscale=1.3)\n",
    "jtplot.figsize(6, 6, 1.2)\n",
    "# if you don't have jupyterthemes, but have seaborn you can use:\n",
    "# sns.set(context='paper', rc={'figure.facecolor':'white'}, font_scale=1.7)"
   ]
  },
  {
   "cell_type": "markdown",
   "metadata": {},
   "source": [
    "## Data Manipulation"
   ]
  },
  {
   "cell_type": "code",
   "execution_count": 2,
   "metadata": {
    "collapsed": true
   },
   "outputs": [],
   "source": [
    "def get_model_param(parameter,stats_csv):\n",
    "    # Import and read data\n",
    "    import pandas as pd\n",
    "    import numpy as np\n",
    "    df = pd.read_csv(stats_csv)\n",
    "    \n",
    "    # Clean up the DataFrame, and Add 'level' column\n",
    "    df['param'] = df['Unnamed: 0']; # a more useful column name\n",
    "    df = pd.DataFrame([df['param'], df['mean'], df['std']]) # only keep the bits we use\n",
    "    df = df.T\n",
    "    \n",
    "    level = pd.Series(0, index=df.index)\n",
    "    df['level'] = level # 0 ~ subject, 1 ~ group\n",
    "    df.drop('level', axis=1)\n",
    "    \n",
    "    # Change the level for group parameters to 1 and remove group-level entries\n",
    "    for i in range(len(df)):\n",
    "        if '_' not in df.ix[i,'param'] or '.' not in df.ix[i,'param']:\n",
    "            # All subject-level params have a '_' and '.' while group do not\n",
    "            df.ix[i,'level'] = 1\n",
    "    df = df[df['level'] == 1]\n",
    "    mask = (df.param.str.startswith('%s'%parameter) & (df.param.str.find('_') == -1 ))\n",
    "    df = df[mask]\n",
    "    \n",
    "    if parameter == 'v':\n",
    "        # Create arrays to hold subj_idx, parameter value, condition and mean parameter estimate\n",
    "        rps = np.array([])\n",
    "        svs = np.array([])\n",
    "\n",
    "        # fill arrays of sids, params and conds\n",
    "        for i in df.index:    \n",
    "            cond = str(df.ix[i, 'param'].split('(')[1].split(')')[0]) # condition\n",
    "            rp = cond.split('.')[0]\n",
    "            sv = cond.split('.')[1]\n",
    "\n",
    "            # append to storage arrays\n",
    "            rps = np.append(rps, rp)\n",
    "            svs = np.append(svs, sv)    \n",
    "\n",
    "        # Create a new DataFrame from the arrays (converted to Series)\n",
    "        rps = pd.Series(rps)\n",
    "        svs = pd.Series(svs)\n",
    "        \n",
    "        new_df = pd.DataFrame([rps, svs, df['mean'].values, df['std'].values],\n",
    "                          index =['rwd_pen', 'stableVar', 'v_mean', 'v_std'])\n",
    "    elif parameter =='z':\n",
    "        # Create arrays to hold subj_idx, parameter value, condition and mean parameter estimate\n",
    "        rps = np.array([])\n",
    "\n",
    "        # fill arrays of sids, params and conds\n",
    "        for i in df.index:    \n",
    "            cond = str(df.ix[i, 'param'].split('(')[1].split(')')[0]) # condition\n",
    "            rp = cond.split('.')[0]\n",
    "\n",
    "            # append to storage arrays\n",
    "            rps = np.append(rps, rp) \n",
    "\n",
    "        # Create a new DataFrame from the arrays (converted to Series)\n",
    "        rps = pd.Series(rps)\n",
    "        \n",
    "        new_df = pd.DataFrame([rps, df['mean'].values, df['std'].values],\n",
    "                          index =['rwd_pen', 'z_mean', 'z_std'])\n",
    "\n",
    "    new_df = new_df.T\n",
    "    \n",
    "    return new_df"
   ]
  },
  {
   "cell_type": "code",
   "execution_count": 4,
   "metadata": {
    "collapsed": false
   },
   "outputs": [
    {
     "data": {
      "text/html": [
       "<div>\n",
       "<table border=\"1\" class=\"dataframe\">\n",
       "  <thead>\n",
       "    <tr style=\"text-align: right;\">\n",
       "      <th></th>\n",
       "      <th>rwd_pen</th>\n",
       "      <th>stableVar</th>\n",
       "      <th>v_mean</th>\n",
       "      <th>v_std</th>\n",
       "    </tr>\n",
       "  </thead>\n",
       "  <tbody>\n",
       "    <tr>\n",
       "      <th>0</th>\n",
       "      <td>0</td>\n",
       "      <td>0</td>\n",
       "      <td>-3.24262</td>\n",
       "      <td>0.363559</td>\n",
       "    </tr>\n",
       "    <tr>\n",
       "      <th>1</th>\n",
       "      <td>0</td>\n",
       "      <td>1</td>\n",
       "      <td>-3.35827</td>\n",
       "      <td>0.358935</td>\n",
       "    </tr>\n",
       "    <tr>\n",
       "      <th>2</th>\n",
       "      <td>0</td>\n",
       "      <td>2</td>\n",
       "      <td>-2.62998</td>\n",
       "      <td>0.35982</td>\n",
       "    </tr>\n",
       "    <tr>\n",
       "      <th>3</th>\n",
       "      <td>0</td>\n",
       "      <td>3</td>\n",
       "      <td>-2.15088</td>\n",
       "      <td>0.351579</td>\n",
       "    </tr>\n",
       "    <tr>\n",
       "      <th>4</th>\n",
       "      <td>1</td>\n",
       "      <td>0</td>\n",
       "      <td>-3.01899</td>\n",
       "      <td>0.354505</td>\n",
       "    </tr>\n",
       "    <tr>\n",
       "      <th>5</th>\n",
       "      <td>1</td>\n",
       "      <td>1</td>\n",
       "      <td>-2.89712</td>\n",
       "      <td>0.355891</td>\n",
       "    </tr>\n",
       "    <tr>\n",
       "      <th>6</th>\n",
       "      <td>1</td>\n",
       "      <td>2</td>\n",
       "      <td>-2.34506</td>\n",
       "      <td>0.363699</td>\n",
       "    </tr>\n",
       "    <tr>\n",
       "      <th>7</th>\n",
       "      <td>1</td>\n",
       "      <td>3</td>\n",
       "      <td>-1.89244</td>\n",
       "      <td>0.353663</td>\n",
       "    </tr>\n",
       "    <tr>\n",
       "      <th>8</th>\n",
       "      <td>2</td>\n",
       "      <td>0</td>\n",
       "      <td>-1.5816</td>\n",
       "      <td>0.343117</td>\n",
       "    </tr>\n",
       "    <tr>\n",
       "      <th>9</th>\n",
       "      <td>2</td>\n",
       "      <td>1</td>\n",
       "      <td>-1.67127</td>\n",
       "      <td>0.344295</td>\n",
       "    </tr>\n",
       "    <tr>\n",
       "      <th>10</th>\n",
       "      <td>2</td>\n",
       "      <td>2</td>\n",
       "      <td>-0.829447</td>\n",
       "      <td>0.345939</td>\n",
       "    </tr>\n",
       "    <tr>\n",
       "      <th>11</th>\n",
       "      <td>2</td>\n",
       "      <td>3</td>\n",
       "      <td>-0.00471709</td>\n",
       "      <td>0.349571</td>\n",
       "    </tr>\n",
       "    <tr>\n",
       "      <th>12</th>\n",
       "      <td>3</td>\n",
       "      <td>0</td>\n",
       "      <td>0.268767</td>\n",
       "      <td>0.350121</td>\n",
       "    </tr>\n",
       "    <tr>\n",
       "      <th>13</th>\n",
       "      <td>3</td>\n",
       "      <td>1</td>\n",
       "      <td>0.436981</td>\n",
       "      <td>0.353066</td>\n",
       "    </tr>\n",
       "    <tr>\n",
       "      <th>14</th>\n",
       "      <td>3</td>\n",
       "      <td>2</td>\n",
       "      <td>0.905709</td>\n",
       "      <td>0.350985</td>\n",
       "    </tr>\n",
       "    <tr>\n",
       "      <th>15</th>\n",
       "      <td>3</td>\n",
       "      <td>3</td>\n",
       "      <td>1.20832</td>\n",
       "      <td>0.3437</td>\n",
       "    </tr>\n",
       "  </tbody>\n",
       "</table>\n",
       "</div>"
      ],
      "text/plain": [
       "   rwd_pen stableVar      v_mean     v_std\n",
       "0        0         0    -3.24262  0.363559\n",
       "1        0         1    -3.35827  0.358935\n",
       "2        0         2    -2.62998   0.35982\n",
       "3        0         3    -2.15088  0.351579\n",
       "4        1         0    -3.01899  0.354505\n",
       "5        1         1    -2.89712  0.355891\n",
       "6        1         2    -2.34506  0.363699\n",
       "7        1         3    -1.89244  0.353663\n",
       "8        2         0     -1.5816  0.343117\n",
       "9        2         1    -1.67127  0.344295\n",
       "10       2         2   -0.829447  0.345939\n",
       "11       2         3 -0.00471709  0.349571\n",
       "12       3         0    0.268767  0.350121\n",
       "13       3         1    0.436981  0.353066\n",
       "14       3         2    0.905709  0.350985\n",
       "15       3         3     1.20832    0.3437"
      ]
     },
     "execution_count": 4,
     "metadata": {},
     "output_type": "execute_result"
    }
   ],
   "source": [
    "drift_df = get_model_param('v', 'exp1model_stats.csv' )\n",
    "drift_df"
   ]
  },
  {
   "cell_type": "code",
   "execution_count": 5,
   "metadata": {
    "collapsed": false
   },
   "outputs": [
    {
     "data": {
      "text/html": [
       "<div>\n",
       "<table border=\"1\" class=\"dataframe\">\n",
       "  <thead>\n",
       "    <tr style=\"text-align: right;\">\n",
       "      <th></th>\n",
       "      <th>rwd_pen</th>\n",
       "      <th>z_mean</th>\n",
       "      <th>z_std</th>\n",
       "    </tr>\n",
       "  </thead>\n",
       "  <tbody>\n",
       "    <tr>\n",
       "      <th>0</th>\n",
       "      <td>0</td>\n",
       "      <td>0.583467</td>\n",
       "      <td>0.0104545</td>\n",
       "    </tr>\n",
       "    <tr>\n",
       "      <th>1</th>\n",
       "      <td>1</td>\n",
       "      <td>0.557279</td>\n",
       "      <td>0.0102705</td>\n",
       "    </tr>\n",
       "    <tr>\n",
       "      <th>2</th>\n",
       "      <td>2</td>\n",
       "      <td>0.523745</td>\n",
       "      <td>0.00984948</td>\n",
       "    </tr>\n",
       "    <tr>\n",
       "      <th>3</th>\n",
       "      <td>3</td>\n",
       "      <td>0.51551</td>\n",
       "      <td>0.00997308</td>\n",
       "    </tr>\n",
       "  </tbody>\n",
       "</table>\n",
       "</div>"
      ],
      "text/plain": [
       "  rwd_pen    z_mean       z_std\n",
       "0       0  0.583467   0.0104545\n",
       "1       1  0.557279   0.0102705\n",
       "2       2  0.523745  0.00984948\n",
       "3       3   0.51551  0.00997308"
      ]
     },
     "execution_count": 5,
     "metadata": {},
     "output_type": "execute_result"
    }
   ],
   "source": [
    "bias_df = get_model_param('z', 'exp1model_stats.csv')\n",
    "bias_df"
   ]
  },
  {
   "cell_type": "code",
   "execution_count": 6,
   "metadata": {
    "collapsed": true
   },
   "outputs": [],
   "source": [
    "# rename some values to be more useful\n",
    "for i in range(len(drift_df.stableVar)):\n",
    "    if drift_df.loc[i,'stableVar'] == '0':\n",
    "        drift_df.loc[i,'stableVar'] = '$\\sigma_s = \\sigma_r$'\n",
    "    elif drift_df.loc[i,'stableVar'] == '1':\n",
    "        drift_df.loc[i,'stableVar'] = '$\\sigma_s = 2\\sigma_r$'\n",
    "    elif drift_df.loc[i,'stableVar'] == '2':\n",
    "       drift_df.loc[i,'stableVar'] = '$\\sigma_s = 4\\sigma_r$'\n",
    "    elif drift_df.loc[i,'stableVar'] == '3':\n",
    "        drift_df.loc[i,'stableVar'] = '$\\sigma_s = 6\\sigma_r$'"
   ]
  },
  {
   "cell_type": "markdown",
   "metadata": {},
   "source": [
    "## Drift Rate"
   ]
  },
  {
   "cell_type": "code",
   "execution_count": 7,
   "metadata": {
    "collapsed": false
   },
   "outputs": [
    {
     "data": {
      "image/png": "[encoded data removed]",
      "text/plain": [
       "<matplotlib.figure.Figure at 0x1ef997012b0>"
      ]
     },
     "metadata": {},
     "output_type": "display_data"
    }
   ],
   "source": [
    "# code adapted from a stackoverflow answer to: https://stackoverflow.com/questions/42017049/seaborn-how-to-add-error-bars-on-a-grouped-barplot\n",
    "import matplotlib.pyplot as plt\n",
    "import seaborn as sns\n",
    "import numpy as np\n",
    "import pandas as pd\n",
    "\n",
    "def grouped_barplot(df, cat,subcat, val , err):\n",
    "    u = df[cat].unique()\n",
    "    x = np.arange(len(u))\n",
    "    subx = df[subcat].unique()\n",
    "    offsets = (np.arange(len(subx))-np.arange(len(subx)).mean())/(len(subx)+1.)\n",
    "    width= np.diff(offsets).mean()\n",
    "    cdict = sns.color_palette('Greys_d',4)\n",
    "    for i,gr in enumerate(subx):\n",
    "        dfg = df[df[subcat] == gr]\n",
    "        plt.bar(x+offsets[i], dfg[val].values, width=width, \n",
    "                label=\"{}\".format(gr), yerr=dfg[err].values,\n",
    "                color=cdict[i],ecolor='black')\n",
    "    plt.xlabel('Reward:Penalty Condition', fontsize=22)\n",
    "    plt.ylabel('Mean Drift Rate', fontsize=22)\n",
    "    plt.yticks(np.linspace(-4,4,9),['safe','-3','-2','-1','0','1','2','3','risky'], fontsize=20)\n",
    "    plt.xticks(x,['1:-2','1:-1','2:-1','4:-1'], fontsize=20)\n",
    "    plt.legend(loc='best',fontsize=22)\n",
    "    sns.despine()\n",
    "    plt.grid(axis='x')\n",
    "    plt.savefig('exp1_drifts.eps')\n",
    "    plt.savefig('exp1_drifts.svg')\n",
    "    plt.show()\n",
    "\n",
    "\n",
    "cat = \"rwd_pen\"\n",
    "subcat = \"stableVar\"\n",
    "val = \"v_mean\"\n",
    "err = \"v_std\"\n",
    "grouped_barplot(drift_df, cat, subcat, val, err )"
   ]
  },
  {
   "cell_type": "markdown",
   "metadata": {},
   "source": [
    "## Bias"
   ]
  },
  {
   "cell_type": "code",
   "execution_count": 8,
   "metadata": {
    "collapsed": false
   },
   "outputs": [
    {
     "data": {
      "image/png": "[encoded data removed]",
      "text/plain": [
       "<matplotlib.figure.Figure at 0x1ef99fcaa58>"
      ]
     },
     "metadata": {},
     "output_type": "display_data"
    }
   ],
   "source": [
    "error_config = {'ecolor': '0.1'}\n",
    "fig,ax = plt.subplots()\n",
    "rects = plt.bar(bias_df.rwd_pen.astype(float)+.6, bias_df.z_mean.astype(float),.8, \n",
    "             yerr= bias_df.z_std.astype(float), error_kw=error_config,\n",
    "            color='dimgray');\n",
    "\n",
    "ax.set_xlabel('Reward:Penalty Condition', fontsize=22)\n",
    "ax.set_ylabel('Mean Onset Bias', fontsize=22)\n",
    "\n",
    "ax.set_ylim([0.5,0.6])\n",
    "\n",
    "\n",
    "ax.set_xticks(np.linspace(1,4,4))\n",
    "ax.set_yticks(np.linspace(0.5,0.6,6))\n",
    "\n",
    "ax.set_xticklabels(['1:-2','1:-1','2:-1','4:-1'], fontsize=20)\n",
    "ax.set_yticklabels(np.linspace(0.5,0.6,6),fontsize=20)\n",
    "\n",
    "ax.grid(axis='x')\n",
    "\n",
    "ax.legend()\n",
    "\n",
    "sns.despine(top=True,right=True)\n",
    "\n",
    "fig.savefig('exp1_bias.eps')\n",
    "fig.savefig('exp1_bias.svg')"
   ]
  }
 ],
 "metadata": {
  "kernelspec": {
   "display_name": "Python 3",
   "language": "python",
   "name": "python3"
  },
  "language_info": {
   "codemirror_mode": {
    "name": "ipython",
    "version": 3
   },
   "file_extension": ".py",
   "mimetype": "text/x-python",
   "name": "python",
   "nbconvert_exporter": "python",
   "pygments_lexer": "ipython3",
   "version": "3.5.2"
  }
 },
 "nbformat": 4,
 "nbformat_minor": 2
}
