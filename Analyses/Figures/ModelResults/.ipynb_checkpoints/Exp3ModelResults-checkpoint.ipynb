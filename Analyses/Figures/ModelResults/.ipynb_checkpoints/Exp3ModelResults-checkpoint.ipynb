{
 "cells": [
  {
   "cell_type": "markdown",
   "metadata": {},
   "source": [
    "# Experiment 3 Model Results"
   ]
  },
  {
   "cell_type": "markdown",
   "metadata": {},
   "source": [
    "## Imports & Set Up"
   ]
  },
  {
   "cell_type": "code",
   "execution_count": 1,
   "metadata": {
    "collapsed": true
   },
   "outputs": [],
   "source": [
    "# Import packages\n",
    "import pandas as pd\n",
    "import numpy as np\n",
    "import seaborn as sns\n",
    "import matplotlib.pyplot as plt\n",
    "import warnings\n",
    "\n",
    "# enough with the warnings!\n",
    "warnings.simplefilter('ignore', np.RankWarning)\n",
    "warnings.filterwarnings(\"ignore\", module=\"matplotlib\")\n",
    "warnings.filterwarnings(\"ignore\", module=\"statsmodels\")\n",
    "\n",
    "# PLOT STYLING\n",
    "# Display plots in the notebook\n",
    "%matplotlib inline \n",
    "\n",
    "#if you have jupyterthemes:\n",
    "from jupyterthemes import jtplot\n",
    "jtplot.style('grade3',context='paper', fscale=1.3)\n",
    "jtplot.figsize(6, 6, 1.2)\n",
    "# if you don't have jupyterthemes, but have seaborn you can use:\n",
    "# sns.set(context='paper', rc={'figure.facecolor':'white'}, font_scale=1.7)"
   ]
  },
  {
   "cell_type": "markdown",
   "metadata": {},
   "source": [
    "## Data Manipulation"
   ]
  },
  {
   "cell_type": "code",
   "execution_count": 2,
   "metadata": {
    "collapsed": true
   },
   "outputs": [],
   "source": [
    "def get_model_param(parameter,stats_csv):\n",
    "    # Import and read data\n",
    "    import pandas as pd\n",
    "    import numpy as np\n",
    "    df = pd.read_csv(stats_csv)\n",
    "    \n",
    "    # Clean up the DataFrame, and Add 'level' column\n",
    "    df['param'] = df['Unnamed: 0']; # a more useful column name\n",
    "    df = pd.DataFrame([df['param'], df['mean'], df['std']]) # only keep the bits we use\n",
    "    df = df.T\n",
    "    \n",
    "    level = pd.Series(0, index=df.index)\n",
    "    df['level'] = level # 0 ~ subject, 1 ~ group\n",
    "    df.drop('level', axis=1)\n",
    "    \n",
    "    # Change the level for group parameters to 1 and remove group-level entries\n",
    "    for i in range(len(df)):\n",
    "        if '_' not in df.ix[i,'param'] or '.' not in df.ix[i,'param']:\n",
    "            # All subject-level params have a '_' and '.' while group do not\n",
    "            df.ix[i,'level'] = 1\n",
    "    df = df[df['level'] == 1]\n",
    "    mask = (df.param.str.startswith('%s'%parameter) & (df.param.str.find('_') == -1 ))\n",
    "    df = df[mask]\n",
    "    \n",
    "    if parameter == 'v':\n",
    "        # Create arrays to hold subj_idx, parameter value, condition and mean parameter estimate\n",
    "        rps = np.array([])\n",
    "        svs = np.array([])\n",
    "\n",
    "        # fill arrays of sids, params and conds\n",
    "        for i in df.index:    \n",
    "            cond = str(df.ix[i, 'param'].split('(')[1].split(')')[0]) # condition\n",
    "            rp = cond.split('.')[0]\n",
    "            sv = cond.split('.')[1]\n",
    "\n",
    "            # append to storage arrays\n",
    "            rps = np.append(rps, rp)\n",
    "            svs = np.append(svs, sv)    \n",
    "\n",
    "        # Create a new DataFrame from the arrays (converted to Series)\n",
    "        rps = pd.Series(rps)\n",
    "        svs = pd.Series(svs)\n",
    "        \n",
    "        new_df = pd.DataFrame([rps, svs, df['mean'].values, df['std'].values],\n",
    "                          index =['rwd_prob', 'stableVar', 'v_mean', 'v_std'])\n",
    "    elif parameter =='z':\n",
    "        # Create arrays to hold subj_idx, parameter value, condition and mean parameter estimate\n",
    "        rps = np.array([])\n",
    "\n",
    "        # fill arrays of sids, params and conds\n",
    "        for i in df.index:    \n",
    "            cond = str(df.ix[i, 'param'].split('(')[1].split(')')[0]) # condition\n",
    "            rp = cond.split('.')[0]\n",
    "\n",
    "            # append to storage arrays\n",
    "            rps = np.append(rps, rp) \n",
    "\n",
    "        # Create a new DataFrame from the arrays (converted to Series)\n",
    "        rps = pd.Series(rps)\n",
    "        \n",
    "        new_df = pd.DataFrame([rps, df['mean'].values, df['std'].values],\n",
    "                          index =['rwd_prob', 'z_mean', 'z_std'])\n",
    "\n",
    "    new_df = new_df.T\n",
    "    \n",
    "    return new_df"
   ]
  },
  {
   "cell_type": "code",
   "execution_count": 4,
   "metadata": {
    "collapsed": false
   },
   "outputs": [
    {
     "data": {
      "text/html": [
       "<div>\n",
       "<table border=\"1\" class=\"dataframe\">\n",
       "  <thead>\n",
       "    <tr style=\"text-align: right;\">\n",
       "      <th></th>\n",
       "      <th>rwd_prob</th>\n",
       "      <th>stableVar</th>\n",
       "      <th>v_mean</th>\n",
       "      <th>v_std</th>\n",
       "    </tr>\n",
       "  </thead>\n",
       "  <tbody>\n",
       "    <tr>\n",
       "      <th>0</th>\n",
       "      <td>0</td>\n",
       "      <td>0</td>\n",
       "      <td>-4.09581</td>\n",
       "      <td>0.428251</td>\n",
       "    </tr>\n",
       "    <tr>\n",
       "      <th>1</th>\n",
       "      <td>0</td>\n",
       "      <td>1</td>\n",
       "      <td>-3.67523</td>\n",
       "      <td>0.435538</td>\n",
       "    </tr>\n",
       "    <tr>\n",
       "      <th>2</th>\n",
       "      <td>0</td>\n",
       "      <td>2</td>\n",
       "      <td>-3.20573</td>\n",
       "      <td>0.428719</td>\n",
       "    </tr>\n",
       "    <tr>\n",
       "      <th>3</th>\n",
       "      <td>0</td>\n",
       "      <td>3</td>\n",
       "      <td>-2.32225</td>\n",
       "      <td>0.421554</td>\n",
       "    </tr>\n",
       "    <tr>\n",
       "      <th>4</th>\n",
       "      <td>1</td>\n",
       "      <td>0</td>\n",
       "      <td>-3.22875</td>\n",
       "      <td>0.433041</td>\n",
       "    </tr>\n",
       "    <tr>\n",
       "      <th>5</th>\n",
       "      <td>1</td>\n",
       "      <td>1</td>\n",
       "      <td>-3.30949</td>\n",
       "      <td>0.439597</td>\n",
       "    </tr>\n",
       "    <tr>\n",
       "      <th>6</th>\n",
       "      <td>1</td>\n",
       "      <td>2</td>\n",
       "      <td>-2.53163</td>\n",
       "      <td>0.40736</td>\n",
       "    </tr>\n",
       "    <tr>\n",
       "      <th>7</th>\n",
       "      <td>1</td>\n",
       "      <td>3</td>\n",
       "      <td>-1.61509</td>\n",
       "      <td>0.423987</td>\n",
       "    </tr>\n",
       "    <tr>\n",
       "      <th>8</th>\n",
       "      <td>2</td>\n",
       "      <td>0</td>\n",
       "      <td>0.955442</td>\n",
       "      <td>0.420439</td>\n",
       "    </tr>\n",
       "    <tr>\n",
       "      <th>9</th>\n",
       "      <td>2</td>\n",
       "      <td>1</td>\n",
       "      <td>1.5632</td>\n",
       "      <td>0.425426</td>\n",
       "    </tr>\n",
       "    <tr>\n",
       "      <th>10</th>\n",
       "      <td>2</td>\n",
       "      <td>2</td>\n",
       "      <td>2.43633</td>\n",
       "      <td>0.425897</td>\n",
       "    </tr>\n",
       "    <tr>\n",
       "      <th>11</th>\n",
       "      <td>2</td>\n",
       "      <td>3</td>\n",
       "      <td>2.97904</td>\n",
       "      <td>0.437429</td>\n",
       "    </tr>\n",
       "    <tr>\n",
       "      <th>12</th>\n",
       "      <td>3</td>\n",
       "      <td>0</td>\n",
       "      <td>1.92008</td>\n",
       "      <td>0.428545</td>\n",
       "    </tr>\n",
       "    <tr>\n",
       "      <th>13</th>\n",
       "      <td>3</td>\n",
       "      <td>1</td>\n",
       "      <td>2.522</td>\n",
       "      <td>0.431788</td>\n",
       "    </tr>\n",
       "    <tr>\n",
       "      <th>14</th>\n",
       "      <td>3</td>\n",
       "      <td>2</td>\n",
       "      <td>3.139</td>\n",
       "      <td>0.422091</td>\n",
       "    </tr>\n",
       "    <tr>\n",
       "      <th>15</th>\n",
       "      <td>3</td>\n",
       "      <td>3</td>\n",
       "      <td>3.43741</td>\n",
       "      <td>0.424081</td>\n",
       "    </tr>\n",
       "  </tbody>\n",
       "</table>\n",
       "</div>"
      ],
      "text/plain": [
       "   rwd_prob stableVar    v_mean     v_std\n",
       "0         0         0  -4.09581  0.428251\n",
       "1         0         1  -3.67523  0.435538\n",
       "2         0         2  -3.20573  0.428719\n",
       "3         0         3  -2.32225  0.421554\n",
       "4         1         0  -3.22875  0.433041\n",
       "5         1         1  -3.30949  0.439597\n",
       "6         1         2  -2.53163   0.40736\n",
       "7         1         3  -1.61509  0.423987\n",
       "8         2         0  0.955442  0.420439\n",
       "9         2         1    1.5632  0.425426\n",
       "10        2         2   2.43633  0.425897\n",
       "11        2         3   2.97904  0.437429\n",
       "12        3         0   1.92008  0.428545\n",
       "13        3         1     2.522  0.431788\n",
       "14        3         2     3.139  0.422091\n",
       "15        3         3   3.43741  0.424081"
      ]
     },
     "execution_count": 4,
     "metadata": {},
     "output_type": "execute_result"
    }
   ],
   "source": [
    "drift_df = get_model_param('v', 'exp3model_stats.csv' )\n",
    "drift_df"
   ]
  },
  {
   "cell_type": "code",
   "execution_count": 5,
   "metadata": {
    "collapsed": false
   },
   "outputs": [
    {
     "data": {
      "text/html": [
       "<div>\n",
       "<table border=\"1\" class=\"dataframe\">\n",
       "  <thead>\n",
       "    <tr style=\"text-align: right;\">\n",
       "      <th></th>\n",
       "      <th>rwd_prob</th>\n",
       "      <th>z_mean</th>\n",
       "      <th>z_std</th>\n",
       "    </tr>\n",
       "  </thead>\n",
       "  <tbody>\n",
       "    <tr>\n",
       "      <th>0</th>\n",
       "      <td>0</td>\n",
       "      <td>0.537196</td>\n",
       "      <td>0.015981</td>\n",
       "    </tr>\n",
       "    <tr>\n",
       "      <th>1</th>\n",
       "      <td>1</td>\n",
       "      <td>0.528508</td>\n",
       "      <td>0.0154928</td>\n",
       "    </tr>\n",
       "    <tr>\n",
       "      <th>2</th>\n",
       "      <td>2</td>\n",
       "      <td>0.463707</td>\n",
       "      <td>0.0157127</td>\n",
       "    </tr>\n",
       "    <tr>\n",
       "      <th>3</th>\n",
       "      <td>3</td>\n",
       "      <td>0.469534</td>\n",
       "      <td>0.0153911</td>\n",
       "    </tr>\n",
       "  </tbody>\n",
       "</table>\n",
       "</div>"
      ],
      "text/plain": [
       "  rwd_prob    z_mean      z_std\n",
       "0        0  0.537196   0.015981\n",
       "1        1  0.528508  0.0154928\n",
       "2        2  0.463707  0.0157127\n",
       "3        3  0.469534  0.0153911"
      ]
     },
     "execution_count": 5,
     "metadata": {},
     "output_type": "execute_result"
    }
   ],
   "source": [
    "bias_df = get_model_param('z', 'exp3model_stats.csv')\n",
    "bias_df"
   ]
  },
  {
   "cell_type": "code",
   "execution_count": 7,
   "metadata": {
    "collapsed": true
   },
   "outputs": [],
   "source": [
    "# rename some values to be more useful\n",
    "for i in range(len(drift_df.stableVar)):\n",
    "    if drift_df.loc[i,'stableVar'] == '0':\n",
    "        drift_df.loc[i,'stableVar'] = '$\\sigma_s = \\sigma_r$'\n",
    "    elif drift_df.loc[i,'stableVar'] == '1':\n",
    "        drift_df.loc[i,'stableVar'] = '$\\sigma_s = 2\\sigma_r$'\n",
    "    elif drift_df.loc[i,'stableVar'] == '2':\n",
    "       drift_df.loc[i,'stableVar'] = '$\\sigma_s = 4\\sigma_r$'\n",
    "    elif drift_df.loc[i,'stableVar'] == '3':\n",
    "        drift_df.loc[i,'stableVar'] = '$\\sigma_s = 6\\sigma_r$'"
   ]
  },
  {
   "cell_type": "markdown",
   "metadata": {},
   "source": [
    "## Drift Rate"
   ]
  },
  {
   "cell_type": "code",
   "execution_count": 9,
   "metadata": {
    "collapsed": false
   },
   "outputs": [
    {
     "data": {
      "image/png": "[encoded data removed]",
      "text/plain": [
       "<matplotlib.figure.Figure at 0x1371f212080>"
      ]
     },
     "metadata": {},
     "output_type": "display_data"
    }
   ],
   "source": [
    "# code adapted from a stackoverflow answer to: https://stackoverflow.com/questions/42017049/seaborn-how-to-add-error-bars-on-a-grouped-barplot\n",
    "import matplotlib.pyplot as plt\n",
    "import seaborn as sns\n",
    "import numpy as np\n",
    "import pandas as pd\n",
    "\n",
    "def grouped_barplot(df, cat,subcat, val , err):\n",
    "    u = df[cat].unique()\n",
    "    x = np.arange(len(u))\n",
    "    subx = df[subcat].unique()\n",
    "    offsets = (np.arange(len(subx))-np.arange(len(subx)).mean())/(len(subx)+1.)\n",
    "    width= np.diff(offsets).mean()\n",
    "    cdict = sns.color_palette('Greys_d',4)\n",
    "    for i,gr in enumerate(subx):\n",
    "        dfg = df[df[subcat] == gr]\n",
    "        plt.bar(x+offsets[i], dfg[val].values, width=width, \n",
    "                label=\"{}\".format(gr), yerr=dfg[err].values,\n",
    "                color=cdict[i],ecolor='black')\n",
    "    plt.xlabel('P(reward | Choice = Risky)', fontsize=22)\n",
    "    plt.ylabel('Mean Drift Rate', fontsize=22)\n",
    "    plt.yticks(np.linspace(-5,5,11),['safe','-4','-3','-2','-1','0','1','2','3','4','risky'], fontsize=20)\n",
    "    plt.xticks(x,['.15','.3','.7','.85'], fontsize=20)\n",
    "    plt.legend(loc='best',fontsize=22)\n",
    "    sns.despine()\n",
    "    plt.grid(axis='x')\n",
    "    plt.savefig('exp3_drifts.eps')\n",
    "    plt.savefig('exp3_drifts.svg')\n",
    "    plt.show()\n",
    "\n",
    "\n",
    "cat = \"rwd_prob\"\n",
    "subcat = \"stableVar\"\n",
    "val = \"v_mean\"\n",
    "err = \"v_std\"\n",
    "grouped_barplot(drift_df, cat, subcat, val, err )"
   ]
  },
  {
   "cell_type": "markdown",
   "metadata": {},
   "source": [
    "## Bias"
   ]
  },
  {
   "cell_type": "code",
   "execution_count": 10,
   "metadata": {
    "collapsed": false
   },
   "outputs": [
    {
     "data": {
      "image/png": "[encoded data removed]",
      "text/plain": [
       "<matplotlib.figure.Figure at 0x1371d997f98>"
      ]
     },
     "metadata": {},
     "output_type": "display_data"
    }
   ],
   "source": [
    "error_config = {'ecolor': '0.1'}\n",
    "fig,ax = plt.subplots()\n",
    "rects = plt.bar(bias_df.rwd_prob.astype(float)+.6, bias_df.z_mean.astype(float),.8, \n",
    "             yerr= bias_df.z_std.astype(float), error_kw=error_config,\n",
    "            color='dimgray');\n",
    "\n",
    "ax.set_xlabel('P(reward | Choice = Risky)', fontsize=22)\n",
    "ax.set_ylabel('Mean Onset Bias', fontsize=22)\n",
    "\n",
    "ax.set_ylim([0.4,0.6])\n",
    "\n",
    "\n",
    "ax.set_xticks(np.linspace(1,4,4))\n",
    "ax.set_yticks(np.linspace(0.4,0.6,5))\n",
    "\n",
    "ax.set_xticklabels(['.15','.3','.7','.85'], fontsize=20)\n",
    "ax.set_yticklabels(np.linspace(0.4,0.6,5),fontsize=20)\n",
    "\n",
    "ax.grid(axis='x')\n",
    "\n",
    "ax.legend()\n",
    "\n",
    "sns.despine(top=True,right=True)\n",
    "\n",
    "fig.savefig('exp3_bias.eps')\n",
    "fig.savefig('exp3_bias.svg')"
   ]
  }
 ],
 "metadata": {
  "kernelspec": {
   "display_name": "Python 3",
   "language": "python",
   "name": "python3"
  },
  "language_info": {
   "codemirror_mode": {
    "name": "ipython",
    "version": 3
   },
   "file_extension": ".py",
   "mimetype": "text/x-python",
   "name": "python",
   "nbconvert_exporter": "python",
   "pygments_lexer": "ipython3",
   "version": "3.5.2"
  }
 },
 "nbformat": 4,
 "nbformat_minor": 2
}
