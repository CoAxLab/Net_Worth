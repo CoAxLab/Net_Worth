{
 "cells": [
  {
   "cell_type": "markdown",
   "metadata": {},
   "source": [
    "# Experiment 2 Model Results"
   ]
  },
  {
   "cell_type": "markdown",
   "metadata": {},
   "source": [
    "## Imports & Set Up"
   ]
  },
  {
   "cell_type": "code",
   "execution_count": 1,
   "metadata": {
    "collapsed": true
   },
   "outputs": [],
   "source": [
    "# Import packages\n",
    "import pandas as pd\n",
    "import numpy as np\n",
    "import seaborn as sns\n",
    "import matplotlib.pyplot as plt\n",
    "import warnings\n",
    "\n",
    "# enough with the warnings!\n",
    "warnings.simplefilter('ignore', np.RankWarning)\n",
    "warnings.filterwarnings(\"ignore\", module=\"matplotlib\")\n",
    "warnings.filterwarnings(\"ignore\", module=\"statsmodels\")\n",
    "\n",
    "# PLOT STYLING\n",
    "# Display plots in the notebook\n",
    "%matplotlib inline \n",
    "\n",
    "#if you have jupyterthemes:\n",
    "from jupyterthemes import jtplot\n",
    "jtplot.style('grade3',context='paper', fscale=1.3)\n",
    "jtplot.figsize(6, 6, 1.2)\n",
    "# if you don't have jupyterthemes, but have seaborn you can use:\n",
    "# sns.set(context='paper', rc={'figure.facecolor':'white'}, font_scale=1.7)"
   ]
  },
  {
   "cell_type": "markdown",
   "metadata": {},
   "source": [
    "## Data Manipulation"
   ]
  },
  {
   "cell_type": "code",
   "execution_count": 2,
   "metadata": {
    "collapsed": true
   },
   "outputs": [],
   "source": [
    "def get_model_param(parameter,stats_csv):\n",
    "    # Import and read data\n",
    "    import pandas as pd\n",
    "    import numpy as np\n",
    "    df = pd.read_csv(stats_csv)\n",
    "    \n",
    "    # Clean up the DataFrame, and Add 'level' column\n",
    "    df['param'] = df['Unnamed: 0']; # a more useful column name\n",
    "    df = pd.DataFrame([df['param'], df['mean'], df['std']]) # only keep the bits we use\n",
    "    df = df.T\n",
    "    \n",
    "    level = pd.Series(0, index=df.index)\n",
    "    df['level'] = level # 0 ~ subject, 1 ~ group\n",
    "    df.drop('level', axis=1)\n",
    "    \n",
    "    # Change the level for group parameters to 1 and remove group-level entries\n",
    "    for i in range(len(df)):\n",
    "        if '_' not in df.ix[i,'param'] or '.' not in df.ix[i,'param']:\n",
    "            # All subject-level params have a '_' and '.' while group do not\n",
    "            df.ix[i,'level'] = 1\n",
    "    df = df[df['level'] == 1]\n",
    "    mask = (df.param.str.startswith('%s'%parameter) & (df.param.str.find('_') == -1 ))\n",
    "    df = df[mask]\n",
    "    \n",
    "    # Create arrays to hold subj_idx, parameter value, condition and mean parameter estimate\n",
    "    rps = np.array([])\n",
    "    rprobs = np.array([])\n",
    "\n",
    "    # fill arrays of sids, params and conds\n",
    "    for i in df.index:    \n",
    "        cond = str(df.ix[i, 'param'].split('(')[1].split(')')[0]) # condition\n",
    "        rp = cond.split('.')[0]\n",
    "        rprob = cond.split('.')[3]\n",
    "        \n",
    "        # append to storage arrays\n",
    "        rps = np.append(rps, rp)\n",
    "        rprobs = np.append(rprobs, rprob)    \n",
    "    \n",
    "    # Create a new DataFrame from the arrays (converted to Series)\n",
    "    rps = pd.Series(rps)\n",
    "    rprobs = pd.Series(rprobs)\n",
    "\n",
    "    new_df = pd.DataFrame([rps, rprobs, df['mean'].values, df['std'].values],\n",
    "                          index =['rwd_pen', 'rprob', '%s_mean'%parameter, '%s_std'%parameter])\n",
    "    new_df = new_df.T\n",
    "    \n",
    "    return new_df"
   ]
  },
  {
   "cell_type": "code",
   "execution_count": 3,
   "metadata": {
    "collapsed": false
   },
   "outputs": [
    {
     "data": {
      "text/html": [
       "<div>\n",
       "<table border=\"1\" class=\"dataframe\">\n",
       "  <thead>\n",
       "    <tr style=\"text-align: right;\">\n",
       "      <th></th>\n",
       "      <th>rwd_pen</th>\n",
       "      <th>rprob</th>\n",
       "      <th>v_mean</th>\n",
       "      <th>v_std</th>\n",
       "    </tr>\n",
       "  </thead>\n",
       "  <tbody>\n",
       "    <tr>\n",
       "      <th>0</th>\n",
       "      <td>1</td>\n",
       "      <td>15</td>\n",
       "      <td>-4.15382</td>\n",
       "      <td>0.615623</td>\n",
       "    </tr>\n",
       "    <tr>\n",
       "      <th>1</th>\n",
       "      <td>1</td>\n",
       "      <td>3</td>\n",
       "      <td>-3.10283</td>\n",
       "      <td>0.607645</td>\n",
       "    </tr>\n",
       "    <tr>\n",
       "      <th>2</th>\n",
       "      <td>1</td>\n",
       "      <td>7</td>\n",
       "      <td>-0.754798</td>\n",
       "      <td>0.601433</td>\n",
       "    </tr>\n",
       "    <tr>\n",
       "      <th>3</th>\n",
       "      <td>1</td>\n",
       "      <td>85</td>\n",
       "      <td>2.4735</td>\n",
       "      <td>0.604756</td>\n",
       "    </tr>\n",
       "    <tr>\n",
       "      <th>4</th>\n",
       "      <td>2</td>\n",
       "      <td>15</td>\n",
       "      <td>-3.86048</td>\n",
       "      <td>0.612129</td>\n",
       "    </tr>\n",
       "    <tr>\n",
       "      <th>5</th>\n",
       "      <td>2</td>\n",
       "      <td>3</td>\n",
       "      <td>-2.81827</td>\n",
       "      <td>0.595853</td>\n",
       "    </tr>\n",
       "    <tr>\n",
       "      <th>6</th>\n",
       "      <td>2</td>\n",
       "      <td>7</td>\n",
       "      <td>2.45451</td>\n",
       "      <td>0.609705</td>\n",
       "    </tr>\n",
       "    <tr>\n",
       "      <th>7</th>\n",
       "      <td>2</td>\n",
       "      <td>85</td>\n",
       "      <td>4.45811</td>\n",
       "      <td>0.613599</td>\n",
       "    </tr>\n",
       "  </tbody>\n",
       "</table>\n",
       "</div>"
      ],
      "text/plain": [
       "  rwd_pen rprob    v_mean     v_std\n",
       "0       1    15  -4.15382  0.615623\n",
       "1       1     3  -3.10283  0.607645\n",
       "2       1     7 -0.754798  0.601433\n",
       "3       1    85    2.4735  0.604756\n",
       "4       2    15  -3.86048  0.612129\n",
       "5       2     3  -2.81827  0.595853\n",
       "6       2     7   2.45451  0.609705\n",
       "7       2    85   4.45811  0.613599"
      ]
     },
     "execution_count": 3,
     "metadata": {},
     "output_type": "execute_result"
    }
   ],
   "source": [
    "drift_df = get_model_param('v', 'exp2model_stats.csv' )\n",
    "drift_df"
   ]
  },
  {
   "cell_type": "code",
   "execution_count": 4,
   "metadata": {
    "collapsed": false
   },
   "outputs": [
    {
     "data": {
      "text/html": [
       "<div>\n",
       "<table border=\"1\" class=\"dataframe\">\n",
       "  <thead>\n",
       "    <tr style=\"text-align: right;\">\n",
       "      <th></th>\n",
       "      <th>rwd_pen</th>\n",
       "      <th>rprob</th>\n",
       "      <th>z_mean</th>\n",
       "      <th>z_std</th>\n",
       "    </tr>\n",
       "  </thead>\n",
       "  <tbody>\n",
       "    <tr>\n",
       "      <th>0</th>\n",
       "      <td>1</td>\n",
       "      <td>15</td>\n",
       "      <td>0.544133</td>\n",
       "      <td>0.020602</td>\n",
       "    </tr>\n",
       "    <tr>\n",
       "      <th>1</th>\n",
       "      <td>1</td>\n",
       "      <td>3</td>\n",
       "      <td>0.503955</td>\n",
       "      <td>0.0209083</td>\n",
       "    </tr>\n",
       "    <tr>\n",
       "      <th>2</th>\n",
       "      <td>1</td>\n",
       "      <td>7</td>\n",
       "      <td>0.503092</td>\n",
       "      <td>0.0205602</td>\n",
       "    </tr>\n",
       "    <tr>\n",
       "      <th>3</th>\n",
       "      <td>1</td>\n",
       "      <td>85</td>\n",
       "      <td>0.436419</td>\n",
       "      <td>0.020489</td>\n",
       "    </tr>\n",
       "    <tr>\n",
       "      <th>4</th>\n",
       "      <td>2</td>\n",
       "      <td>15</td>\n",
       "      <td>0.569339</td>\n",
       "      <td>0.0206214</td>\n",
       "    </tr>\n",
       "    <tr>\n",
       "      <th>5</th>\n",
       "      <td>2</td>\n",
       "      <td>3</td>\n",
       "      <td>0.50345</td>\n",
       "      <td>0.0206787</td>\n",
       "    </tr>\n",
       "    <tr>\n",
       "      <th>6</th>\n",
       "      <td>2</td>\n",
       "      <td>7</td>\n",
       "      <td>0.48957</td>\n",
       "      <td>0.0210665</td>\n",
       "    </tr>\n",
       "    <tr>\n",
       "      <th>7</th>\n",
       "      <td>2</td>\n",
       "      <td>85</td>\n",
       "      <td>0.435573</td>\n",
       "      <td>0.0211703</td>\n",
       "    </tr>\n",
       "  </tbody>\n",
       "</table>\n",
       "</div>"
      ],
      "text/plain": [
       "  rwd_pen rprob    z_mean      z_std\n",
       "0       1    15  0.544133   0.020602\n",
       "1       1     3  0.503955  0.0209083\n",
       "2       1     7  0.503092  0.0205602\n",
       "3       1    85  0.436419   0.020489\n",
       "4       2    15  0.569339  0.0206214\n",
       "5       2     3   0.50345  0.0206787\n",
       "6       2     7   0.48957  0.0210665\n",
       "7       2    85  0.435573  0.0211703"
      ]
     },
     "execution_count": 4,
     "metadata": {},
     "output_type": "execute_result"
    }
   ],
   "source": [
    "bias_df = get_model_param('z', 'exp2model_stats.csv')\n",
    "bias_df"
   ]
  },
  {
   "cell_type": "code",
   "execution_count": 5,
   "metadata": {
    "collapsed": true
   },
   "outputs": [],
   "source": [
    "# relabel some of the data for descriptive legend\n",
    "for i in range(len(drift_df.rwd_pen)):\n",
    "    if drift_df.loc[i,'rwd_pen'] == '1':\n",
    "        drift_df.loc[i,'rwd_pen'] = 'reward = penalty'\n",
    "    elif drift_df.loc[i,'rwd_pen'] == '2':\n",
    "        drift_df.loc[i,'rwd_pen'] = 'reward = 2(penalty)'"
   ]
  },
  {
   "cell_type": "markdown",
   "metadata": {},
   "source": [
    "## Drift Rate"
   ]
  },
  {
   "cell_type": "code",
   "execution_count": 6,
   "metadata": {
    "collapsed": false
   },
   "outputs": [
    {
     "data": {
      "image/png": "[encoded data removed]",
      "text/plain": [
       "<matplotlib.figure.Figure at 0x29402c9db38>"
      ]
     },
     "metadata": {},
     "output_type": "display_data"
    }
   ],
   "source": [
    "# code adapted from a stackoverflow answer to: https://stackoverflow.com/questions/42017049/seaborn-how-to-add-error-bars-on-a-grouped-barplot\n",
    "import matplotlib.pyplot as plt\n",
    "import seaborn as sns\n",
    "import numpy as np\n",
    "import pandas as pd\n",
    "\n",
    "def grouped_barplot(df, cat,subcat, val , err):\n",
    "    u = df[cat].unique()\n",
    "    x = np.arange(len(u))\n",
    "    subx = df[subcat].unique()\n",
    "    offsets = (np.arange(len(subx))-np.arange(len(subx)).mean())/(len(subx)+1.)\n",
    "    width= np.diff(offsets).mean()\n",
    "    cdict = sns.color_palette('Greys_d',2)\n",
    "    for i,gr in enumerate(subx):\n",
    "        dfg = df[df[subcat] == gr]\n",
    "        plt.bar(x+offsets[i], dfg[val].values, width=width, \n",
    "                label=\"{}\".format(gr), yerr=dfg[err].values,\n",
    "                color=cdict[i],ecolor='black')\n",
    "    plt.xlabel('P(reward | Choice = Risky)', fontsize=22)\n",
    "    plt.ylabel('Mean Drift Rate', fontsize=22)\n",
    "    plt.yticks(np.linspace(-5,5,11),['safe','-4','-3','-2','-1','0','1','2','3','-4','risky'], fontsize=20)\n",
    "    plt.xticks(x,['.15','.3','.7','.85'], fontsize=20)\n",
    "    plt.ylim([-5,5])\n",
    "    plt.legend(loc='best',fontsize=22)\n",
    "    sns.despine()\n",
    "    plt.grid(axis='x')\n",
    "    plt.savefig('exp2_drifts.eps')\n",
    "    plt.savefig('exp2_drifts.svg')\n",
    "    plt.show()\n",
    "\n",
    "\n",
    "cat = \"rprob\"\n",
    "subcat = \"rwd_pen\"\n",
    "val = \"v_mean\"\n",
    "err = \"v_std\"\n",
    "grouped_barplot(drift_df, cat, subcat, val, err )"
   ]
  },
  {
   "cell_type": "markdown",
   "metadata": {},
   "source": [
    "## Bias"
   ]
  },
  {
   "cell_type": "code",
   "execution_count": 7,
   "metadata": {
    "collapsed": false
   },
   "outputs": [
    {
     "data": {
      "text/html": [
       "<div>\n",
       "<table border=\"1\" class=\"dataframe\">\n",
       "  <thead>\n",
       "    <tr style=\"text-align: right;\">\n",
       "      <th></th>\n",
       "      <th>rwd_pen</th>\n",
       "      <th>rprob</th>\n",
       "      <th>z_mean</th>\n",
       "      <th>z_std</th>\n",
       "    </tr>\n",
       "  </thead>\n",
       "  <tbody>\n",
       "    <tr>\n",
       "      <th>0</th>\n",
       "      <td>1</td>\n",
       "      <td>15</td>\n",
       "      <td>0.544133</td>\n",
       "      <td>0.020602</td>\n",
       "    </tr>\n",
       "    <tr>\n",
       "      <th>1</th>\n",
       "      <td>1</td>\n",
       "      <td>3</td>\n",
       "      <td>0.503955</td>\n",
       "      <td>0.0209083</td>\n",
       "    </tr>\n",
       "    <tr>\n",
       "      <th>2</th>\n",
       "      <td>1</td>\n",
       "      <td>7</td>\n",
       "      <td>0.503092</td>\n",
       "      <td>0.0205602</td>\n",
       "    </tr>\n",
       "    <tr>\n",
       "      <th>3</th>\n",
       "      <td>1</td>\n",
       "      <td>85</td>\n",
       "      <td>0.436419</td>\n",
       "      <td>0.020489</td>\n",
       "    </tr>\n",
       "    <tr>\n",
       "      <th>4</th>\n",
       "      <td>2</td>\n",
       "      <td>15</td>\n",
       "      <td>0.569339</td>\n",
       "      <td>0.0206214</td>\n",
       "    </tr>\n",
       "    <tr>\n",
       "      <th>5</th>\n",
       "      <td>2</td>\n",
       "      <td>3</td>\n",
       "      <td>0.50345</td>\n",
       "      <td>0.0206787</td>\n",
       "    </tr>\n",
       "    <tr>\n",
       "      <th>6</th>\n",
       "      <td>2</td>\n",
       "      <td>7</td>\n",
       "      <td>0.48957</td>\n",
       "      <td>0.0210665</td>\n",
       "    </tr>\n",
       "    <tr>\n",
       "      <th>7</th>\n",
       "      <td>2</td>\n",
       "      <td>85</td>\n",
       "      <td>0.435573</td>\n",
       "      <td>0.0211703</td>\n",
       "    </tr>\n",
       "  </tbody>\n",
       "</table>\n",
       "</div>"
      ],
      "text/plain": [
       "  rwd_pen rprob    z_mean      z_std\n",
       "0       1    15  0.544133   0.020602\n",
       "1       1     3  0.503955  0.0209083\n",
       "2       1     7  0.503092  0.0205602\n",
       "3       1    85  0.436419   0.020489\n",
       "4       2    15  0.569339  0.0206214\n",
       "5       2     3   0.50345  0.0206787\n",
       "6       2     7   0.48957  0.0210665\n",
       "7       2    85  0.435573  0.0211703"
      ]
     },
     "execution_count": 7,
     "metadata": {},
     "output_type": "execute_result"
    }
   ],
   "source": [
    "bias_df"
   ]
  },
  {
   "cell_type": "code",
   "execution_count": 8,
   "metadata": {
    "collapsed": false
   },
   "outputs": [
    {
     "data": {
      "image/png": "[encoded data removed]",
      "text/plain": [
       "<matplotlib.figure.Figure at 0x294030a8e80>"
      ]
     },
     "metadata": {},
     "output_type": "display_data"
    }
   ],
   "source": [
    "# code adapted from a stackoverflow answer to: https://stackoverflow.com/questions/42017049/seaborn-how-to-add-error-bars-on-a-grouped-barplot\n",
    "import matplotlib.pyplot as plt\n",
    "import seaborn as sns\n",
    "import numpy as np\n",
    "import pandas as pd\n",
    "\n",
    "def grouped_barplot(df, cat,subcat, val , err):\n",
    "    u = df[cat].unique()\n",
    "    x = np.arange(len(u))\n",
    "    subx = df[subcat].unique()\n",
    "    offsets = (np.arange(len(subx))-np.arange(len(subx)).mean())/(len(subx)+1.)\n",
    "    width= np.diff(offsets).mean()\n",
    "    cdict = sns.color_palette('Greys_d',2)\n",
    "    for i,gr in enumerate(subx):\n",
    "        dfg = df[df[subcat] == gr]\n",
    "        plt.bar(x+offsets[i], dfg[val].values, width=width, \n",
    "                label=\"{}\".format(gr), yerr=dfg[err].values,\n",
    "                color=cdict[i],ecolor='black')\n",
    "    plt.xlabel('P(reward | Choice = Risky)', fontsize=22)\n",
    "    plt.ylabel('Mean Onset Bias', fontsize=22)\n",
    "    plt.yticks(np.linspace(.4,.6,5),np.linspace(.4,.6,5), fontsize=20)\n",
    "    plt.ylim([.4, .6])\n",
    "    plt.xticks(x,['.15','.3','.7','.85'], fontsize=20)\n",
    "    plt.legend(['reward = penalty','reward = 2(penalty)'],loc='best',fontsize=22)\n",
    "    sns.despine()\n",
    "    plt.grid(axis='x')\n",
    "    plt.savefig('exp2_bias.eps')\n",
    "    plt.savefig('exp2_bias.svg')\n",
    "    plt.show()\n",
    "\n",
    "\n",
    "cat = \"rprob\"\n",
    "subcat = \"rwd_pen\"\n",
    "val = \"z_mean\"\n",
    "err = \"z_std\"\n",
    "grouped_barplot(bias_df, cat, subcat, val, err )"
   ]
  }
 ],
 "metadata": {
  "kernelspec": {
   "display_name": "Python 3",
   "language": "python",
   "name": "python3"
  },
  "language_info": {
   "codemirror_mode": {
    "name": "ipython",
    "version": 3
   },
   "file_extension": ".py",
   "mimetype": "text/x-python",
   "name": "python",
   "nbconvert_exporter": "python",
   "pygments_lexer": "ipython3",
   "version": "3.5.2"
  }
 },
 "nbformat": 4,
 "nbformat_minor": 2
}
