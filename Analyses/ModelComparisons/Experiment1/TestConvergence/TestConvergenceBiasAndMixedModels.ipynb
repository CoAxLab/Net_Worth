{
 "cells": [
  {
   "cell_type": "code",
   "execution_count": null,
   "metadata": {
    "collapsed": false
   },
   "outputs": [],
   "source": [
    "# Start cluster. Note: to get this to work, I run the cell once, then \"Restart and Clear all output\" then run a second time.\n",
    "!ipcluster start -n 3 #3 CPUs, one for each chain we want to test\n",
    "chains = 3"
   ]
  },
  {
   "cell_type": "code",
   "execution_count": null,
   "metadata": {
    "collapsed": false
   },
   "outputs": [],
   "source": [
    "# Imports\n",
    "from ModelConvergenceTest import test_convergence\n",
    "import Exp1models\n",
    "%matplotlib inline\n",
    "\n",
    "from jupyterthemes import jtplot\n",
    "jtplot.style(context='paper', fscale=1.3)\n",
    "jtplot.figsize(6, 6, 1.2)"
   ]
  },
  {
   "cell_type": "code",
   "execution_count": null,
   "metadata": {
    "collapsed": false
   },
   "outputs": [],
   "source": [
    "# Bias: rwd/pen tradeoff model\n",
    "rhat7 = test_convergence(Exp1models.run_exp1mod7, chains, saveplots=True)\n",
    "rhat7"
   ]
  },
  {
   "cell_type": "code",
   "execution_count": null,
   "metadata": {
    "collapsed": false
   },
   "outputs": [],
   "source": [
    "# Bias: stable target variance model\n",
    "rhat8 = test_convergence(Exp1models.run_exp1mod8, chains, saveplots=True)\n",
    "rhat8"
   ]
  },
  {
   "cell_type": "code",
   "execution_count": null,
   "metadata": {
    "collapsed": false
   },
   "outputs": [],
   "source": [
    "# Bias: task params model\n",
    "rhat9 = test_convergence(Exp1models.run_exp1mod2, chains, saveplots=True)\n",
    "rhat9"
   ]
  },
  {
   "cell_type": "code",
   "execution_count": null,
   "metadata": {
    "collapsed": false
   },
   "outputs": [],
   "source": [
    "# Drift-rate: rwd/pen tradeoff, bias: stable target variance model\n",
    "rhat10 = test_convergence(Exp1models.run_exp1mod3, chains, saveplots=True)\n",
    "rhat10 # redo at higher sample/burn rate"
   ]
  },
  {
   "cell_type": "code",
   "execution_count": null,
   "metadata": {
    "collapsed": false
   },
   "outputs": [],
   "source": [
    "# bias: rwd/pen tradeoff, drift-rate: stable target variance model\n",
    "rhat11 = test_convergence(Exp1models.run_exp1mod4, chains, saveplots=True)\n",
    "rhat11"
   ]
  }
 ],
 "metadata": {
  "kernelspec": {
   "display_name": "Python 3",
   "language": "python",
   "name": "python3"
  },
  "language_info": {
   "codemirror_mode": {
    "name": "ipython",
    "version": 3
   },
   "file_extension": ".py",
   "mimetype": "text/x-python",
   "name": "python",
   "nbconvert_exporter": "python",
   "pygments_lexer": "ipython3",
   "version": "3.5.2"
  }
 },
 "nbformat": 4,
 "nbformat_minor": 2
}
