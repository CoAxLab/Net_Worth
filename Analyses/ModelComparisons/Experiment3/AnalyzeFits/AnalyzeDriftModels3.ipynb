{
 "cells": [
  {
   "cell_type": "code",
   "execution_count": null,
   "metadata": {
    "collapsed": false
   },
   "outputs": [],
   "source": [
    "from FitAnalyze import fit_and_analyze\n",
    "from jupyterthemes import jtplot\n",
    "jtplot.style(context='paper', fscale=1.3)\n",
    "jtplot.figsize(6, 6, 1.2)\n",
    "# Values below are chosen to match convergence for defined models in the convergence testing. This step should be performed only after satisfactory convergence is determined."
   ]
  },
  {
   "cell_type": "code",
   "execution_count": null,
   "metadata": {
    "collapsed": false
   },
   "outputs": [],
   "source": [
    "# Drift-rate to stable target variance\n",
    "e3m5 = fit_and_analyze(experiment=3, depends_on={'v':'stableVar'}, bias=False, include=['v', 't', 'a'], nsample=1500, nburn=500, p_outlier=.05, mname='Exp3Mod5', saveplots=True, stats=True)"
   ]
  },
  {
   "cell_type": "code",
   "execution_count": null,
   "metadata": {
    "collapsed": false
   },
   "outputs": [],
   "source": [
    "# Drift-rate to rwd prob\n",
    "e3m6 = fit_and_analyze(experiment=3, depends_on={'v':'rwd_prob'}, bias=False, include=['v', 't', 'a'], nsample=1500, nburn=500, p_outlier=.05, mname='Exp3Mod6', saveplots=True, stats=True)"
   ]
  },
  {
   "cell_type": "code",
   "execution_count": null,
   "metadata": {
    "collapsed": false
   },
   "outputs": [],
   "source": [
    "# Drift-rate to both task params\n",
    "e3m1 = fit_and_analyze(experiment=3, depends_on={'v':['stableVar','rwd_prob']}, bias=False, include=['v', 't', 'a'], nsample=1500, nburn=500, p_outlier=.05, mname='Exp3Mod1', saveplots=True, stats=True)"
   ]
  },
  {
   "cell_type": "code",
   "execution_count": null,
   "metadata": {
    "collapsed": false
   },
   "outputs": [],
   "source": [
    "# Drift-rate to stable target variance with free bias\n",
    "e3m10 = fit_and_analyze(experiment=3, depends_on={'v':'stableVar'}, bias=True, include=['v', 't', 'a','z'], nsample=1500, nburn=500, p_outlier=.05, mname='Exp3m10', saveplots=True, stats=True)"
   ]
  },
  {
   "cell_type": "code",
   "execution_count": null,
   "metadata": {
    "collapsed": false
   },
   "outputs": [],
   "source": [
    "# Drift-rate to rwd prob with free bias\n",
    "e3m11 = fit_and_analyze(experiment=3, depends_on={'v':'rwd_prob'}, bias=True, include=['v', 't', 'a','z'], nsample=1500, nburn=500, p_outlier=.05, mname='Exp3Mod11', saveplots=True, stats=True)"
   ]
  },
  {
   "cell_type": "code",
   "execution_count": null,
   "metadata": {
    "collapsed": false
   },
   "outputs": [],
   "source": [
    "# Drift-rate to task params with free bias model\n",
    "e3m9 = fit_and_analyze(experiment=3, depends_on={'v':['stableVar','rwd_prob']}, bias=True, include=['v', 't', 'a','z'], nsample=1500, nburn=500, p_outlier=.05, mname='Exp3Mod9', saveplots=True, stats=True)"
   ]
  }
 ],
 "metadata": {
  "kernelspec": {
   "display_name": "Python 3",
   "language": "python",
   "name": "python3"
  },
  "language_info": {
   "codemirror_mode": {
    "name": "ipython",
    "version": 3
   },
   "file_extension": ".py",
   "mimetype": "text/x-python",
   "name": "python",
   "nbconvert_exporter": "python",
   "pygments_lexer": "ipython3",
   "version": "3.5.2"
  }
 },
 "nbformat": 4,
 "nbformat_minor": 2
}
