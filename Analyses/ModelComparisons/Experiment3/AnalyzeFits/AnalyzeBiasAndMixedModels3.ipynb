{
 "cells": [
  {
   "cell_type": "code",
   "execution_count": null,
   "metadata": {
    "collapsed": true
   },
   "outputs": [],
   "source": [
    "from FitAnalyze import fit_and_analyze\n",
    "from jupyterthemes import jtplot\n",
    "jtplot.style(context='paper', fscale=1.3)\n",
    "jtplot.figsize(6, 6, 1.2)"
   ]
  },
  {
   "cell_type": "code",
   "execution_count": null,
   "metadata": {
    "collapsed": false
   },
   "outputs": [],
   "source": [
    "# null model\n",
    "e3m0 = fit_and_analyze(experiment=3, depends_on={}, bias=True, include=['v', 't', 'a','z'], nsample=1500, nburn=500, p_outlier=.05, mname='Exp3Mod0', saveplots=True, stats=True)"
   ]
  },
  {
   "cell_type": "code",
   "execution_count": null,
   "metadata": {
    "collapsed": false
   },
   "outputs": [],
   "source": [
    "# Bias to stable target variance\n",
    "e3m7 = fit_and_analyze(experiment=3, depends_on={'z':'stableVar'}, bias=True, include=['v', 't', 'a','z'], nsample=1500, nburn=500, p_outlier=.05, mname='Exp3Mod7', saveplots=True, stats=True)"
   ]
  },
  {
   "cell_type": "code",
   "execution_count": null,
   "metadata": {
    "collapsed": false
   },
   "outputs": [],
   "source": [
    "# Bias to rwd prob\n",
    "e3m8 = fit_and_analyze(experiment=3, depends_on={'z':'rwd_prob'}, bias=True, include=['v', 't', 'a','z'], nsample=1500, nburn=500, p_outlier=.05, mname='Exp3Mod8', saveplots=True, stats=True)"
   ]
  },
  {
   "cell_type": "code",
   "execution_count": null,
   "metadata": {
    "collapsed": false
   },
   "outputs": [],
   "source": [
    "# Bias to both task params\n",
    "e3m2 = fit_and_analyze(experiment=3, depends_on={'z':['rwd_prob','stableVar']}, bias=True, include=['v', 't', 'a','z'], nsample=1500, nburn=500, p_outlier=.05, mname='Exp3Mod2', saveplots=True, stats=True)"
   ]
  },
  {
   "cell_type": "code",
   "execution_count": null,
   "metadata": {
    "collapsed": false
   },
   "outputs": [],
   "source": [
    "# Drift-rate to rwd prob\n",
    "# Bias to stable target variance\n",
    "e3m3 = fit_and_analyze(experiment=3, depends_on={'v':'rwd_prob','z':'stableVar'}, bias=True, include=['v', 't', 'a','z'], nsample=1500, nburn=500, p_outlier=.05, mname='Exp3Mod3', saveplots=True, stats=True)"
   ]
  },
  {
   "cell_type": "code",
   "execution_count": null,
   "metadata": {
    "collapsed": false
   },
   "outputs": [],
   "source": [
    "# Drift-rate to stable target variance\n",
    "# Bias to rwd prob\n",
    "e3m4 = fit_and_analyze(experiment=3, depends_on={'z':'rwd_prob','v':'stableVar'}, bias=True, include=['v', 't', 'a','z'], nsample=1500, nburn=500, p_outlier=.05, mname='Exp3Mod4', saveplots=True, stats=True)"
   ]
  },
  {
   "cell_type": "code",
   "execution_count": null,
   "metadata": {
    "collapsed": false
   },
   "outputs": [],
   "source": [
    "# Drift-rate to rwd prob\n",
    "# Bias to rwd prob, stable target variance\n",
    "e3m12 = fit_and_analyze(experiment=3, depends_on={'v':['rwd_prob'],'z':['rwd_prob','stableVar']}, bias=True, include=['v', 't', 'a','z'], nsample=3000, nburn=1000, p_outlier=.05, mname='Exp3Mod12', saveplots=True, stats=True)"
   ]
  },
  {
   "cell_type": "code",
   "execution_count": null,
   "metadata": {
    "collapsed": false
   },
   "outputs": [],
   "source": [
    "# Drift-rate to stable target variance\n",
    "# Bias to rwd prob, stable target variance\n",
    "e3m13 = fit_and_analyze(experiment=3, depends_on={'v':['stableVar'],'z':['rwd_prob','stableVar']}, bias=True, include=['v', 't', 'a','z'], nsample=3000, nburn=1000, p_outlier=.05, mname='Exp3Mod13', saveplots=True, stats=True)"
   ]
  },
  {
   "cell_type": "code",
   "execution_count": null,
   "metadata": {
    "collapsed": false
   },
   "outputs": [],
   "source": [
    "# Drift-rate to stable target variance, rwd prob\n",
    "# Bias to rwd prob\n",
    "e3m14 = fit_and_analyze(experiment=3, depends_on={'v':['rwd_prob','stableVar'],'z':'rwd_prob'}, bias=True, include=['v', 't', 'a','z'], nsample=3000, nburn=1000, p_outlier=.05, mname='Exp3Mod14', saveplots=True, stats=True)"
   ]
  },
  {
   "cell_type": "code",
   "execution_count": null,
   "metadata": {
    "collapsed": false
   },
   "outputs": [],
   "source": [
    "# Drift-rate to stable target variance, rwd prob\n",
    "# Bias to stable target variance\n",
    "e3m15 = fit_and_analyze(experiment=3, depends_on={'v':['rwd_prob','stableVar'],'z':'stableVar'}, bias=True, include=['v', 't', 'a','z'], nsample=3000, nburn=1000, p_outlier=.05, mname='Exp3Mod15', saveplots=True, stats=True)"
   ]
  },
  {
   "cell_type": "code",
   "execution_count": null,
   "metadata": {
    "collapsed": false
   },
   "outputs": [],
   "source": [
    "# Drift-rate to stable target variance, rwd prob\n",
    "# Bias to rwd prob, stable target variance\n",
    "e3m16 = fit_and_analyze(experiment=3, depends_on={'v':['rwd_prob','stableVar'],'z':['rwd_prob','stableVar']}, bias=True, include=['v', 't', 'a','z'], nsample=5000, nburn=1500, p_outlier=.05, mname='Exp3Mod16', saveplots=True, stats=True)"
   ]
  }
 ],
 "metadata": {
  "kernelspec": {
   "display_name": "Python 3",
   "language": "python",
   "name": "python3"
  },
  "language_info": {
   "codemirror_mode": {
    "name": "ipython",
    "version": 3
   },
   "file_extension": ".py",
   "mimetype": "text/x-python",
   "name": "python",
   "nbconvert_exporter": "python",
   "pygments_lexer": "ipython3",
   "version": "3.5.2"
  }
 },
 "nbformat": 4,
 "nbformat_minor": 2
}
