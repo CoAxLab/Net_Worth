{
 "cells": [
  {
   "cell_type": "code",
   "execution_count": null,
   "metadata": {
    "collapsed": true
   },
   "outputs": [],
   "source": [
    "from FitAnalyze import fit_and_analyze\n",
    "from jupyterthemes import jtplot\n",
    "jtplot.style(context='paper', fscale=1.3)\n",
    "jtplot.figsize(6, 6, 1.2)"
   ]
  },
  {
   "cell_type": "code",
   "execution_count": null,
   "metadata": {
    "collapsed": false
   },
   "outputs": [],
   "source": [
    "# null model\n",
    "e2m0 = fit_and_analyze(experiment=2, depends_on={}, bias=True, include=['v', 't', 'a','z'], nsample=1500, nburn=500, p_outlier=.05, mname='Exp2Mod0', saveplots=True, stats=True)"
   ]
  },
  {
   "cell_type": "code",
   "execution_count": null,
   "metadata": {
    "collapsed": false
   },
   "outputs": [],
   "source": [
    "# Bias to rwd/pen tradeoff\n",
    "e2m7 = fit_and_analyze(experiment=2, depends_on={'z':'rwd_pen'}, bias=True, include=['v', 't', 'a','z'], nsample=1500, nburn=500, p_outlier=.05, mname='Exp2Mod7', saveplots=True, stats=True)"
   ]
  },
  {
   "cell_type": "code",
   "execution_count": null,
   "metadata": {
    "collapsed": false
   },
   "outputs": [],
   "source": [
    "# Bias to rwd prob\n",
    "e2m8 = fit_and_analyze(experiment=2, depends_on={'z':'rwd_prob'}, bias=True, include=['v', 't', 'a','z'], nsample=1500, nburn=500, p_outlier=.05, mname='Exp2Mod8', saveplots=True, stats=True)"
   ]
  },
  {
   "cell_type": "code",
   "execution_count": null,
   "metadata": {
    "collapsed": false
   },
   "outputs": [],
   "source": [
    "# Bias to both task params\n",
    "e2m2 = fit_and_analyze(experiment=2, depends_on={'z':['rwd_pen','rwd_prob']}, bias=True, include=['v', 't', 'a','z'], nsample=1500, nburn=500, p_outlier=.05, mname='Exp2Mod2', saveplots=True, stats=True)"
   ]
  },
  {
   "cell_type": "code",
   "execution_count": null,
   "metadata": {
    "collapsed": false
   },
   "outputs": [],
   "source": [
    "# Drift-rate to rwd/pen tradeoff\n",
    "# Bias to rwd pron\n",
    "e2m3 = fit_and_analyze(experiment=2, depends_on={'v':'rwd_pen','z':'rwd_prob'}, bias=True, include=['v', 't', 'a','z'], nsample=1500, nburn=500, p_outlier=.05, mname='Exp2Mod3', saveplots=True, stats=True)"
   ]
  },
  {
   "cell_type": "code",
   "execution_count": null,
   "metadata": {
    "collapsed": false
   },
   "outputs": [],
   "source": [
    "# Drift-rate to rwd prob\n",
    "# Bias to rwd/pen tradeoff\n",
    "e2m4 = fit_and_analyze(experiment=2, depends_on={'z':'rwd_pen','v':'rwd_prob'}, bias=True, include=['v', 't', 'a','z'], nsample=1500, nburn=500, p_outlier=.05, mname='Exp2Mod4', saveplots=True, stats=True)"
   ]
  },
  {
   "cell_type": "code",
   "execution_count": null,
   "metadata": {
    "collapsed": false
   },
   "outputs": [],
   "source": [
    "e2m12 = fit_and_analyze(experiment=2, depends_on={'v':['rwd_pen'],'z':['rwd_pen','rwd_prob']}, bias=True, include=['v', 't', 'a','z'], nsample=3000, nburn=1000, p_outlier=.05, mname='Exp2Mod12', saveplots=True, stats=True)"
   ]
  },
  {
   "cell_type": "code",
   "execution_count": null,
   "metadata": {
    "collapsed": false
   },
   "outputs": [],
   "source": [
    "e2m13= fit_and_analyze(experiment=2, depends_on={'v':['rwd_prob'],'z':['rwd_pen','rwd_prob']}, bias=True, include=['v', 't', 'a','z'], nsample=3000, nburn=1000, p_outlier=.05, mname='Exp2Mod13', saveplots=True, stats=True)"
   ]
  },
  {
   "cell_type": "code",
   "execution_count": null,
   "metadata": {
    "collapsed": false
   },
   "outputs": [],
   "source": [
    "e2m14 = fit_and_analyze(experiment=2, depends_on={'v':['rwd_pen','rwd_prob'],'z':'rwd_pen'}, bias=True, include=['v', 't', 'a','z'], nsample=3000, nburn=1000, p_outlier=.05, mname='Exp2Mod14', saveplots=True, stats=True)"
   ]
  },
  {
   "cell_type": "code",
   "execution_count": null,
   "metadata": {
    "collapsed": false
   },
   "outputs": [],
   "source": [
    "e2m15 = fit_and_analyze(experiment=2, depends_on={'v':['rwd_pen','rwd_prob'],'z':'rwd_prob'}, bias=True, include=['v', 't', 'a','z'], nsample=3000, nburn=1000, p_outlier=.05, mname='Exp2Mod15', saveplots=True, stats=True)"
   ]
  },
  {
   "cell_type": "code",
   "execution_count": null,
   "metadata": {
    "collapsed": false
   },
   "outputs": [],
   "source": [
    "e2m16 = fit_and_analyze(experiment=2, depends_on={'v':['rwd_pen','rwd_prob'],'z':['rwd_pen', 'rwd_prob']}, bias=True, include=['v', 't', 'a','z'], nsample=5000, nburn=1500, p_outlier=.05, mname='Exp2Mod16', saveplots=True, stats=True)"
   ]
  }
 ],
 "metadata": {
  "kernelspec": {
   "display_name": "Python 3",
   "language": "python",
   "name": "python3"
  },
  "language_info": {
   "codemirror_mode": {
    "name": "ipython",
    "version": 3
   },
   "file_extension": ".py",
   "mimetype": "text/x-python",
   "name": "python",
   "nbconvert_exporter": "python",
   "pygments_lexer": "ipython3",
   "version": "3.5.2"
  }
 },
 "nbformat": 4,
 "nbformat_minor": 2
}
