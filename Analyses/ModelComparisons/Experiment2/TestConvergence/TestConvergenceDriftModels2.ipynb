{
 "cells": [
  {
   "cell_type": "code",
   "execution_count": null,
   "metadata": {
    "collapsed": false
   },
   "outputs": [],
   "source": [
    "# Start cluster. Note: to get this to work, I run the cell once, then \"Restart and Clear all output\" then run a second time.\n",
    "!ipcluster start -n 3 #3 CPUs, one for each chain we want to test\n",
    "chains = 3"
   ]
  },
  {
   "cell_type": "code",
   "execution_count": null,
   "metadata": {
    "collapsed": true
   },
   "outputs": [],
   "source": [
    "# Imports\n",
    "from ModelConvergenceTest import test_convergence\n",
    "import Exp2models\n",
    "%matplotlib inline\n",
    "\n",
    "from jupyterthemes import jtplot\n",
    "jtplot.style(context='paper', fscale=1.3)\n",
    "jtplot.figsize(6, 6, 1.2)"
   ]
  },
  {
   "cell_type": "code",
   "execution_count": null,
   "metadata": {
    "collapsed": false
   },
   "outputs": [],
   "source": [
    "# Pure drift-rate: rwd/pen tradeoff model\n",
    "rhat5 = test_convergence(Exp2models.run_exp2mod5, chains, saveplots=True)\n",
    "rhat5"
   ]
  },
  {
   "cell_type": "code",
   "execution_count": null,
   "metadata": {
    "collapsed": false
   },
   "outputs": [],
   "source": [
    "# Pure drift-rate: rwd prob model\n",
    "rhat6 = test_convergence(Exp2models.run_exp2mod6, chains, saveplots=True)\n",
    "rhat6"
   ]
  },
  {
   "cell_type": "code",
   "execution_count": null,
   "metadata": {
    "collapsed": false
   },
   "outputs": [],
   "source": [
    "# Pure Drift-rate: task params model\n",
    "rhat1 = test_convergence(Exp2models.run_exp2mod1, chains, saveplots=True)\n",
    "rhat1"
   ]
  },
  {
   "cell_type": "code",
   "execution_count": null,
   "metadata": {
    "collapsed": false
   },
   "outputs": [],
   "source": [
    "# Drift-rate: rwd/pen tradeoff with free bias model\n",
    "rhat10 = test_convergence(Exp2models.run_exp2mod10, chains, saveplots=True)\n",
    "rhat10"
   ]
  },
  {
   "cell_type": "code",
   "execution_count": null,
   "metadata": {
    "collapsed": false
   },
   "outputs": [],
   "source": [
    "# Drift-rate: rwd prob with free bias model\n",
    "rhat11 = test_convergence(Exp2models.run_exp2mod11, chains, saveplots=True)\n",
    "rhat11"
   ]
  },
  {
   "cell_type": "code",
   "execution_count": null,
   "metadata": {
    "collapsed": false
   },
   "outputs": [],
   "source": [
    "# Drift-rate: task params with free bias model\n",
    "rhat9 = test_convergence(Exp2models.run_exp2mod9, chains, saveplots=True)\n",
    "rhat9"
   ]
  }
 ],
 "metadata": {
  "kernelspec": {
   "display_name": "Python 3",
   "language": "python",
   "name": "python3"
  },
  "language_info": {
   "codemirror_mode": {
    "name": "ipython",
    "version": 3
   },
   "file_extension": ".py",
   "mimetype": "text/x-python",
   "name": "python",
   "nbconvert_exporter": "python",
   "pygments_lexer": "ipython3",
   "version": "3.5.2"
  }
 },
 "nbformat": 4,
 "nbformat_minor": 2
}
